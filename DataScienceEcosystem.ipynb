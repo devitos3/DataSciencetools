{
 "cells": [
  {
   "cell_type": "markdown",
   "id": "c506b8a9",
   "metadata": {},
   "source": [
    "# DATA SCIENCE TOOLS AND ECOSYSTEM"
   ]
  },
  {
   "cell_type": "markdown",
   "id": "385cc7ac",
   "metadata": {},
   "source": [
    "In this notebook, Data Science tools and ecosystem are summarized"
   ]
  },
  {
   "cell_type": "markdown",
   "id": "d8774e19",
   "metadata": {},
   "source": [
    "Some of the popular languages that Data Scientists use are:\n",
    "1. Python\n",
    "2. R\n",
    "3. SQL\n",
    "4. Java"
   ]
  },
  {
   "cell_type": "markdown",
   "id": "03999aa9",
   "metadata": {},
   "source": [
    "Some of the commonly used libraries used by Data Scientists include:\n",
    "1. Pandas\n",
    "2. Matplotlib\n",
    "3. Tensorflow\n"
   ]
  },
  {
   "cell_type": "markdown",
   "id": "0ed4648c",
   "metadata": {},
   "source": [
    "\n",
    "\n",
    "| Data Science Tools | \n",
    "| --- | \n",
    "| Matlab|\n",
    "| Excel | \n",
    "| Tableau | \n"
   ]
  },
  {
   "cell_type": "markdown",
   "id": "1b558e3e",
   "metadata": {},
   "source": [
    "Below are a few examples of evaluating arithmetic expressions in Python"
   ]
  },
  {
   "cell_type": "code",
   "execution_count": 3,
   "id": "14a25f90",
   "metadata": {},
   "outputs": [
    {
     "name": "stdout",
     "output_type": "stream",
     "text": [
      "17\n"
     ]
    }
   ],
   "source": [
    "#This a simple arithmetic expression to mutiply then add integers\n",
    "a=(3*4)+5\n",
    "print(a)"
   ]
  },
  {
   "cell_type": "code",
   "execution_count": 4,
   "id": "7418b69f",
   "metadata": {},
   "outputs": [
    {
     "name": "stdout",
     "output_type": "stream",
     "text": [
      "3.3333333333333335\n"
     ]
    }
   ],
   "source": [
    "#This will convert 200 minutes to hours by diving by 60\n",
    "b=200/60\n",
    "print(b)"
   ]
  },
  {
   "cell_type": "markdown",
   "id": "939b93ab",
   "metadata": {},
   "source": [
    "**Objectives:**\n",
    "- To understand data science tools better\n",
    "- To get hands-on experience with using some tools\n",
    "- To get familiar with git and github environment"
   ]
  },
  {
   "cell_type": "markdown",
   "id": "5d51c2e3",
   "metadata": {},
   "source": [
    "## Author\n",
    "Devanshi Jajodia"
   ]
  },
  {
   "cell_type": "code",
   "execution_count": null,
   "id": "b0323317",
   "metadata": {},
   "outputs": [],
   "source": []
  }
 ],
 "metadata": {
  "kernelspec": {
   "display_name": "Python 3",
   "language": "python",
   "name": "python3"
  },
  "language_info": {
   "codemirror_mode": {
    "name": "ipython",
    "version": 3
   },
   "file_extension": ".py",
   "mimetype": "text/x-python",
   "name": "python",
   "nbconvert_exporter": "python",
   "pygments_lexer": "ipython3",
   "version": "3.8.8"
  }
 },
 "nbformat": 4,
 "nbformat_minor": 5
}
